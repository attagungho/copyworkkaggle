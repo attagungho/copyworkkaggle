{
 "cells": [
  {
   "cell_type": "markdown",
   "id": "56a4fe5f-edbc-4c4d-8901-82f69a4a0642",
   "metadata": {},
   "source": [
    "[Porto: xgb+lgb kfold LB 0.282](https://www.kaggle.com/rshally/porto-xgb-lgb-kfold-lb-0-282)"
   ]
  },
  {
   "cell_type": "code",
   "execution_count": 1,
   "id": "52867a01-e9ba-4d21-bbdd-e09fd91d57cd",
   "metadata": {},
   "outputs": [
    {
     "name": "stdout",
     "output_type": "stream",
     "text": [
      "loading files...\n",
      "(10000, 39) (10000, 38)\n"
     ]
    }
   ],
   "source": [
    "import pandas as pd\n",
    "import numpy as np\n",
    "import xgboost as xgb\n",
    "import lightgbm as lgb\n",
    "from sklearn.model_selection import StratifiedKFold\n",
    "import gc\n",
    "\n",
    "print('loading files...')\n",
    "train = pd.read_csv('./data/train.csv', na_values=-1, nrows=10000)\n",
    "test = pd.read_csv('./data/test.csv', na_values=-1, nrows=10000)\n",
    "col_to_drop = train.columns[train.columns.str.startswith('ps_calc_')]\n",
    "train = train.drop(col_to_drop, axis=1)  \n",
    "test = test.drop(col_to_drop, axis=1)  \n",
    "\n",
    "for c in train.select_dtypes(include=['float64']).columns:\n",
    "    train[c]=train[c].astype(np.float32)\n",
    "    test[c]=test[c].astype(np.float32)\n",
    "for c in train.select_dtypes(include=['int64']).columns[2:]:\n",
    "    train[c]=train[c].astype(np.int8)\n",
    "    test[c]=test[c].astype(np.int8)    \n",
    "\n",
    "print(train.shape, test.shape)"
   ]
  },
  {
   "cell_type": "markdown",
   "id": "90b7bbe2-4bf9-407e-9918-cb042d754330",
   "metadata": {},
   "source": [
    "# xgboost params\n",
    "xgboost document\n",
    "# lightgbm params\n",
    "lightgbm document\n",
    "\n",
    "[boosting](https://www.slideshare.net/freepsw/boosting-bagging-vs-boosting)"
   ]
  },
  {
   "cell_type": "code",
   "execution_count": 3,
   "id": "e6b52ede-9d2b-421c-8f4d-98a948db831f",
   "metadata": {},
   "outputs": [],
   "source": [
    "def gini(y, pred):\n",
    "    g = np.asarray(np.c_[y, pred, np.arange(len(y)) ], dtype=np.float)\n",
    "    g = g[np.lexsort((g[:2], -1*g[:,1]))]\n",
    "    gs = g[:,0].cumsum().sum() / g[:,0].sum()\n",
    "    gs -= (len(y)+1)/2.\n",
    "    return gs / len(y)\n",
    "\n",
    "def gini_xgb(pred, y):\n",
    "    y = y.get_label()\n",
    "    return 'gini', gini(y, pred) / gini(y, y)\n",
    "\n",
    "def gini_lgb(preds, dtrain):\n",
    "    y = list(dtrain.get_label())\n",
    "    score = gini(y, preds) / gini(y, y)\n",
    "    return 'gini', score, True"
   ]
  },
  {
   "cell_type": "code",
   "execution_count": null,
   "id": "a0d4ef9e-bfb4-40c2-999f-fa933c0c370b",
   "metadata": {},
   "outputs": [],
   "source": [
    "# xgb\n",
    "params = {'eta': 0.02,\n",
    "         'max_depth': 4,\n",
    "         'subs'}"
   ]
  }
 ],
 "metadata": {
  "kernelspec": {
   "display_name": "Python [conda env:kaggle]",
   "language": "python",
   "name": "conda-env-kaggle-py"
  },
  "language_info": {
   "codemirror_mode": {
    "name": "ipython",
    "version": 3
   },
   "file_extension": ".py",
   "mimetype": "text/x-python",
   "name": "python",
   "nbconvert_exporter": "python",
   "pygments_lexer": "ipython3",
   "version": "3.9.6"
  }
 },
 "nbformat": 4,
 "nbformat_minor": 5
}
